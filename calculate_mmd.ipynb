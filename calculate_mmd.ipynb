{
 "cells": [
  {
   "cell_type": "markdown",
   "id": "42556dcd",
   "metadata": {},
   "source": [
    "This notebook calculates the mean & standard deviation MMD for all model in all tasks. It uses pre-generated datasets from each generative model, in which should be placed in a specific place in OS."
   ]
  },
  {
   "cell_type": "code",
   "execution_count": 3,
   "id": "050bcb78",
   "metadata": {},
   "outputs": [
    {
     "name": "stderr",
     "output_type": "stream",
     "text": [
      "C:\\Users\\cooli\\AppData\\Roaming\\Python\\Python311\\site-packages\\tqdm\\auto.py:21: TqdmWarning: IProgress not found. Please update jupyter and ipywidgets. See https://ipywidgets.readthedocs.io/en/stable/user_install.html\n",
      "  from .autonotebook import tqdm as notebook_tqdm\n"
     ]
    },
    {
     "ename": "ModuleNotFoundError",
     "evalue": "No module named 'future'",
     "output_type": "error",
     "traceback": [
      "\u001b[31m---------------------------------------------------------------------------\u001b[39m",
      "\u001b[31mModuleNotFoundError\u001b[39m                       Traceback (most recent call last)",
      "\u001b[36mCell\u001b[39m\u001b[36m \u001b[39m\u001b[32mIn[3]\u001b[39m\u001b[32m, line 5\u001b[39m\n\u001b[32m      3\u001b[39m \u001b[38;5;28;01mfrom\u001b[39;00m\u001b[38;5;250m \u001b[39m\u001b[34;01mcollections\u001b[39;00m\u001b[38;5;250m \u001b[39m\u001b[38;5;28;01mimport\u001b[39;00m defaultdict\n\u001b[32m      4\u001b[39m \u001b[38;5;28;01mfrom\u001b[39;00m\u001b[38;5;250m \u001b[39m\u001b[34;01msbibm\u001b[39;00m\u001b[38;5;250m \u001b[39m\u001b[38;5;28;01mimport\u001b[39;00m get_task\n\u001b[32m----> \u001b[39m\u001b[32m5\u001b[39m \u001b[38;5;28;01mfrom\u001b[39;00m\u001b[38;5;250m \u001b[39m\u001b[34;01msbibm\u001b[39;00m\u001b[34;01m.\u001b[39;00m\u001b[34;01mmetrics\u001b[39;00m\u001b[34;01m.\u001b[39;00m\u001b[34;01mmmd\u001b[39;00m\u001b[38;5;250m \u001b[39m\u001b[38;5;28;01mimport\u001b[39;00m mmd\n\u001b[32m      6\u001b[39m \u001b[38;5;28;01mimport\u001b[39;00m\u001b[38;5;250m \u001b[39m\u001b[34;01mtorch\u001b[39;00m\n\u001b[32m      8\u001b[39m nb_dir = os.getcwd()\n",
      "\u001b[36mFile \u001b[39m\u001b[32mc:\\Users\\cooli\\anaconda3\\envs\\master_thesis\\Lib\\site-packages\\sbibm\\metrics\\__init__.py:2\u001b[39m\n\u001b[32m      1\u001b[39m \u001b[38;5;28;01mfrom\u001b[39;00m\u001b[38;5;250m \u001b[39m\u001b[34;01msbibm\u001b[39;00m\u001b[34;01m.\u001b[39;00m\u001b[34;01mmetrics\u001b[39;00m\u001b[34;01m.\u001b[39;00m\u001b[34;01mc2st\u001b[39;00m\u001b[38;5;250m \u001b[39m\u001b[38;5;28;01mimport\u001b[39;00m c2st  \u001b[38;5;66;03m# noqa: F401\u001b[39;00m\n\u001b[32m----> \u001b[39m\u001b[32m2\u001b[39m \u001b[38;5;28;01mfrom\u001b[39;00m\u001b[38;5;250m \u001b[39m\u001b[34;01msbibm\u001b[39;00m\u001b[34;01m.\u001b[39;00m\u001b[34;01mmetrics\u001b[39;00m\u001b[34;01m.\u001b[39;00m\u001b[34;01mksd\u001b[39;00m\u001b[38;5;250m \u001b[39m\u001b[38;5;28;01mimport\u001b[39;00m ksd  \u001b[38;5;66;03m# noqa: F401\u001b[39;00m\n\u001b[32m      3\u001b[39m \u001b[38;5;28;01mfrom\u001b[39;00m\u001b[38;5;250m \u001b[39m\u001b[34;01msbibm\u001b[39;00m\u001b[34;01m.\u001b[39;00m\u001b[34;01mmetrics\u001b[39;00m\u001b[34;01m.\u001b[39;00m\u001b[34;01mmmd\u001b[39;00m\u001b[38;5;250m \u001b[39m\u001b[38;5;28;01mimport\u001b[39;00m mmd  \u001b[38;5;66;03m# noqa: F401\u001b[39;00m\n\u001b[32m      4\u001b[39m \u001b[38;5;28;01mfrom\u001b[39;00m\u001b[38;5;250m \u001b[39m\u001b[34;01msbibm\u001b[39;00m\u001b[34;01m.\u001b[39;00m\u001b[34;01mmetrics\u001b[39;00m\u001b[34;01m.\u001b[39;00m\u001b[34;01mmoments\u001b[39;00m\u001b[38;5;250m \u001b[39m\u001b[38;5;28;01mimport\u001b[39;00m posterior_mean_error, posterior_variance_ratio\n",
      "\u001b[36mFile \u001b[39m\u001b[32mc:\\Users\\cooli\\anaconda3\\envs\\master_thesis\\Lib\\site-packages\\sbibm\\metrics\\ksd.py:9\u001b[39m\n\u001b[32m      6\u001b[39m \u001b[38;5;28;01mimport\u001b[39;00m\u001b[38;5;250m \u001b[39m\u001b[34;01mtorch\u001b[39;00m\n\u001b[32m      8\u001b[39m \u001b[38;5;28;01mfrom\u001b[39;00m\u001b[38;5;250m \u001b[39m\u001b[34;01msbibm\u001b[39;00m\u001b[34;01m.\u001b[39;00m\u001b[34;01mtasks\u001b[39;00m\u001b[34;01m.\u001b[39;00m\u001b[34;01mtask\u001b[39;00m\u001b[38;5;250m \u001b[39m\u001b[38;5;28;01mimport\u001b[39;00m Task\n\u001b[32m----> \u001b[39m\u001b[32m9\u001b[39m \u001b[38;5;28;01mfrom\u001b[39;00m\u001b[38;5;250m \u001b[39m\u001b[34;01msbibm\u001b[39;00m\u001b[34;01m.\u001b[39;00m\u001b[34;01mthird_party\u001b[39;00m\u001b[34;01m.\u001b[39;00m\u001b[34;01mkgof\u001b[39;00m\u001b[34;01m.\u001b[39;00m\u001b[34;01mgoftest\u001b[39;00m\u001b[38;5;250m \u001b[39m\u001b[38;5;28;01mimport\u001b[39;00m KernelSteinTest, bootstrapper_rademacher\n\u001b[32m     10\u001b[39m \u001b[38;5;28;01mfrom\u001b[39;00m\u001b[38;5;250m \u001b[39m\u001b[34;01msbibm\u001b[39;00m\u001b[34;01m.\u001b[39;00m\u001b[34;01mthird_party\u001b[39;00m\u001b[34;01m.\u001b[39;00m\u001b[34;01mkgof\u001b[39;00m\u001b[34;01m.\u001b[39;00m\u001b[34;01mkernel\u001b[39;00m\u001b[38;5;250m \u001b[39m\u001b[38;5;28;01mimport\u001b[39;00m KGauss\n\u001b[32m     11\u001b[39m \u001b[38;5;28;01mfrom\u001b[39;00m\u001b[38;5;250m \u001b[39m\u001b[34;01msbibm\u001b[39;00m\u001b[34;01m.\u001b[39;00m\u001b[34;01mthird_party\u001b[39;00m\u001b[34;01m.\u001b[39;00m\u001b[34;01mkgof\u001b[39;00m\u001b[34;01m.\u001b[39;00m\u001b[34;01mutil\u001b[39;00m\u001b[38;5;250m \u001b[39m\u001b[38;5;28;01mimport\u001b[39;00m meddistance\n",
      "\u001b[36mFile \u001b[39m\u001b[32mc:\\Users\\cooli\\anaconda3\\envs\\master_thesis\\Lib\\site-packages\\sbibm\\third_party\\kgof\\goftest.py:8\u001b[39m\n\u001b[32m      4\u001b[39m \u001b[38;5;28;01mfrom\u001b[39;00m\u001b[38;5;250m \u001b[39m\u001b[34;01m__future__\u001b[39;00m\u001b[38;5;250m \u001b[39m\u001b[38;5;28;01mimport\u001b[39;00m division\n\u001b[32m      6\u001b[39m \u001b[38;5;28;01mfrom\u001b[39;00m\u001b[38;5;250m \u001b[39m\u001b[34;01mbuiltins\u001b[39;00m\u001b[38;5;250m \u001b[39m\u001b[38;5;28;01mimport\u001b[39;00m \u001b[38;5;28mobject\u001b[39m, \u001b[38;5;28mrange\u001b[39m, \u001b[38;5;28mstr\u001b[39m, \u001b[38;5;28mzip\u001b[39m\n\u001b[32m----> \u001b[39m\u001b[32m8\u001b[39m \u001b[38;5;28;01mfrom\u001b[39;00m\u001b[38;5;250m \u001b[39m\u001b[34;01mfuture\u001b[39;00m\u001b[34;01m.\u001b[39;00m\u001b[34;01mutils\u001b[39;00m\u001b[38;5;250m \u001b[39m\u001b[38;5;28;01mimport\u001b[39;00m with_metaclass\n\u001b[32m      9\u001b[39m \u001b[38;5;28;01mfrom\u001b[39;00m\u001b[38;5;250m \u001b[39m\u001b[34;01mpast\u001b[39;00m\u001b[34;01m.\u001b[39;00m\u001b[34;01mutils\u001b[39;00m\u001b[38;5;250m \u001b[39m\u001b[38;5;28;01mimport\u001b[39;00m old_div\n\u001b[32m     11\u001b[39m __author__ = \u001b[33m\"\u001b[39m\u001b[33mwittawat\u001b[39m\u001b[33m\"\u001b[39m\n",
      "\u001b[31mModuleNotFoundError\u001b[39m: No module named 'future'"
     ]
    }
   ],
   "source": [
    "import os\n",
    "import numpy as np\n",
    "from collections import defaultdict\n",
    "from sbibm import get_task\n",
    "from sbibm.metrics.mmd import mmd\n",
    "import torch\n",
    "\n",
    "nb_dir = os.getcwd()"
   ]
  },
  {
   "cell_type": "code",
   "execution_count": 10,
   "id": "409641a2",
   "metadata": {},
   "outputs": [],
   "source": [
    "def calculate_mmd(model:str, task_name:str):    \n",
    "    task = get_task(task_name)\n",
    "    reference_samples = task.get_reference_posterior_samples(num_observation=1)\n",
    "\n",
    "    # Folder containing .npz files\n",
    "    if model == \"dep\":\n",
    "      datasets_path = os.path.join(nb_dir, \"cVAE\", \"Runs - Dependent_cVAE\", task_name)\n",
    "    elif model == \"indep\":\n",
    "      datasets_path = os.path.join(nb_dir, \"cVAE\", \"Runs - Independent_cVAE\", task_name)\n",
    "    elif model == \"NSF\":\n",
    "      datasets_path = os.path.join(nb_dir, \"Flow Based Methods\", \"Runs - NSF\", task_name)\n",
    "    elif model == \"MAF\":\n",
    "      datasets_path = os.path.join(nb_dir, \"Flow Based Methods\", \"Runs - MAF\", task_name)\n",
    "    else:\n",
    "      print(\"Model not found\")\n",
    "      return\n",
    "\n",
    "    # Store MMDs grouped by budget\n",
    "    mmd_by_budget = defaultdict(list)\n",
    "\n",
    "    for fname in sorted(os.listdir(datasets_path)):\n",
    "      file_path = os.path.join(datasets_path, fname)\n",
    "\n",
    "      # Extract budget from filename (e.g., 'budget_5k')\n",
    "      try:\n",
    "          budget = fname.split(\"budget_\")[1].replace(\".npz\", \"\")\n",
    "      except IndexError:\n",
    "          print(f\"Could not extract budget from {fname}, skipping...\")\n",
    "          continue\n",
    "\n",
    "      # Load generated samples\n",
    "      data = np.load(file_path)\n",
    "      if \"thetas\" in data:\n",
    "          generated = data[\"thetas\"]\n",
    "      else:\n",
    "          print(f\"'thetas' key not found in {fname}, skipping...\")\n",
    "          continue\n",
    "\n",
    "      # Compute MMD and store\n",
    "      # Convert to torch tensors\n",
    "      ref_tensor = torch.tensor(reference_samples, dtype=torch.float32)\n",
    "      gen_tensor = torch.tensor(generated, dtype=torch.float32)\n",
    "\n",
    "      # Compute MMD\n",
    "      score = mmd(ref_tensor, gen_tensor)\n",
    "      \n",
    "      if score < np.inf:\n",
    "        mmd_by_budget[budget].append(score)\n",
    "\n",
    "    # Print mean and std MMDs per budget\n",
    "    print(f\"\\nTask: {task_name}\\nMMD Summary (Mean ± Std):\")\n",
    "    for budget in sorted(mmd_by_budget.keys(), key=lambda b: int(b.replace(\"k\", \"\"))):\n",
    "        scores = np.array(mmd_by_budget[budget])\n",
    "        mean_score = scores.mean()\n",
    "        std_score = scores.std()\n",
    "        print(f\"Budget {budget}: MMD = {mean_score:.3f} ± {std_score:.3f} [Nr. Scores used: {len(scores)}]\")"
   ]
  },
  {
   "cell_type": "code",
   "execution_count": 11,
   "id": "af59a973",
   "metadata": {},
   "outputs": [],
   "source": [
    "tasks = [\n",
    "\"gaussian_linear\",\n",
    "\"gaussian_linear_uniform\",\n",
    "\"slcp\",\n",
    "\"slcp_distractors\",\n",
    "\"bernoulli_glm\",\n",
    "\"bernoulli_glm_raw\",\n",
    "\"gaussian_mixture\",\n",
    "\"two_moons\",\n",
    "\"sir\",\n",
    "\"lotka_volterra\"\n",
    " ]"
   ]
  },
  {
   "cell_type": "markdown",
   "id": "3f00f0ce",
   "metadata": {},
   "source": [
    "# Dependent cVAE"
   ]
  },
  {
   "cell_type": "code",
   "execution_count": 13,
   "id": "55047e91",
   "metadata": {},
   "outputs": [
    {
     "name": "stderr",
     "output_type": "stream",
     "text": [
      "C:\\Users\\cooli\\AppData\\Local\\Temp\\ipykernel_2244\\828865007.py:41: UserWarning: To copy construct from a tensor, it is recommended to use sourceTensor.clone().detach() or sourceTensor.clone().detach().requires_grad_(True), rather than torch.tensor(sourceTensor).\n",
      "  ref_tensor = torch.tensor(reference_samples, dtype=torch.float32)\n"
     ]
    },
    {
     "name": "stdout",
     "output_type": "stream",
     "text": [
      "\n",
      "Task: gaussian_linear\n",
      "MMD Summary (Mean ± Std):\n",
      "Budget 5k: MMD = 0.016 ± 0.010 [Nr. Scores used: 5]\n",
      "Budget 10k: MMD = 0.005 ± 0.003 [Nr. Scores used: 5]\n",
      "Budget 20k: MMD = 0.090 ± 0.068 [Nr. Scores used: 5]\n"
     ]
    },
    {
     "name": "stderr",
     "output_type": "stream",
     "text": [
      "C:\\Users\\cooli\\AppData\\Local\\Temp\\ipykernel_2244\\828865007.py:41: UserWarning: To copy construct from a tensor, it is recommended to use sourceTensor.clone().detach() or sourceTensor.clone().detach().requires_grad_(True), rather than torch.tensor(sourceTensor).\n",
      "  ref_tensor = torch.tensor(reference_samples, dtype=torch.float32)\n"
     ]
    },
    {
     "name": "stdout",
     "output_type": "stream",
     "text": [
      "\n",
      "Task: gaussian_linear_uniform\n",
      "MMD Summary (Mean ± Std):\n",
      "Budget 5k: MMD = 0.031 ± 0.013 [Nr. Scores used: 5]\n",
      "Budget 10k: MMD = 0.027 ± 0.020 [Nr. Scores used: 5]\n",
      "Budget 20k: MMD = 0.014 ± 0.008 [Nr. Scores used: 5]\n"
     ]
    },
    {
     "name": "stderr",
     "output_type": "stream",
     "text": [
      "C:\\Users\\cooli\\AppData\\Local\\Temp\\ipykernel_2244\\828865007.py:41: UserWarning: To copy construct from a tensor, it is recommended to use sourceTensor.clone().detach() or sourceTensor.clone().detach().requires_grad_(True), rather than torch.tensor(sourceTensor).\n",
      "  ref_tensor = torch.tensor(reference_samples, dtype=torch.float32)\n"
     ]
    },
    {
     "name": "stdout",
     "output_type": "stream",
     "text": [
      "\n",
      "Task: slcp\n",
      "MMD Summary (Mean ± Std):\n",
      "Budget 5k: MMD = 0.076 ± 0.037 [Nr. Scores used: 5]\n",
      "Budget 10k: MMD = 0.044 ± 0.042 [Nr. Scores used: 5]\n",
      "Budget 20k: MMD = 0.075 ± 0.061 [Nr. Scores used: 5]\n"
     ]
    },
    {
     "name": "stderr",
     "output_type": "stream",
     "text": [
      "C:\\Users\\cooli\\AppData\\Local\\Temp\\ipykernel_2244\\828865007.py:41: UserWarning: To copy construct from a tensor, it is recommended to use sourceTensor.clone().detach() or sourceTensor.clone().detach().requires_grad_(True), rather than torch.tensor(sourceTensor).\n",
      "  ref_tensor = torch.tensor(reference_samples, dtype=torch.float32)\n"
     ]
    },
    {
     "name": "stdout",
     "output_type": "stream",
     "text": [
      "\n",
      "Task: slcp_distractors\n",
      "MMD Summary (Mean ± Std):\n",
      "Budget 5k: MMD = 0.154 ± 0.080 [Nr. Scores used: 5]\n",
      "Budget 10k: MMD = 0.072 ± 0.071 [Nr. Scores used: 5]\n",
      "Budget 20k: MMD = 0.030 ± 0.011 [Nr. Scores used: 5]\n"
     ]
    },
    {
     "name": "stderr",
     "output_type": "stream",
     "text": [
      "C:\\Users\\cooli\\AppData\\Local\\Temp\\ipykernel_2244\\828865007.py:41: UserWarning: To copy construct from a tensor, it is recommended to use sourceTensor.clone().detach() or sourceTensor.clone().detach().requires_grad_(True), rather than torch.tensor(sourceTensor).\n",
      "  ref_tensor = torch.tensor(reference_samples, dtype=torch.float32)\n"
     ]
    },
    {
     "name": "stdout",
     "output_type": "stream",
     "text": [
      "\n",
      "Task: bernoulli_glm\n",
      "MMD Summary (Mean ± Std):\n",
      "Budget 5k: MMD = 0.121 ± 0.058 [Nr. Scores used: 5]\n",
      "Budget 10k: MMD = 0.099 ± 0.050 [Nr. Scores used: 5]\n",
      "Budget 20k: MMD = 0.050 ± 0.022 [Nr. Scores used: 5]\n"
     ]
    },
    {
     "name": "stderr",
     "output_type": "stream",
     "text": [
      "C:\\Users\\cooli\\AppData\\Local\\Temp\\ipykernel_2244\\828865007.py:41: UserWarning: To copy construct from a tensor, it is recommended to use sourceTensor.clone().detach() or sourceTensor.clone().detach().requires_grad_(True), rather than torch.tensor(sourceTensor).\n",
      "  ref_tensor = torch.tensor(reference_samples, dtype=torch.float32)\n"
     ]
    },
    {
     "name": "stdout",
     "output_type": "stream",
     "text": [
      "\n",
      "Task: bernoulli_glm_raw\n",
      "MMD Summary (Mean ± Std):\n",
      "Budget 5k: MMD = 0.102 ± 0.081 [Nr. Scores used: 5]\n",
      "Budget 10k: MMD = 0.070 ± 0.021 [Nr. Scores used: 5]\n",
      "Budget 20k: MMD = 0.047 ± 0.013 [Nr. Scores used: 5]\n"
     ]
    },
    {
     "name": "stderr",
     "output_type": "stream",
     "text": [
      "C:\\Users\\cooli\\AppData\\Local\\Temp\\ipykernel_2244\\828865007.py:41: UserWarning: To copy construct from a tensor, it is recommended to use sourceTensor.clone().detach() or sourceTensor.clone().detach().requires_grad_(True), rather than torch.tensor(sourceTensor).\n",
      "  ref_tensor = torch.tensor(reference_samples, dtype=torch.float32)\n"
     ]
    },
    {
     "name": "stdout",
     "output_type": "stream",
     "text": [
      "\n",
      "Task: gaussian_mixture\n",
      "MMD Summary (Mean ± Std):\n",
      "Budget 5k: MMD = 0.116 ± 0.037 [Nr. Scores used: 5]\n",
      "Budget 10k: MMD = 0.122 ± 0.045 [Nr. Scores used: 5]\n",
      "Budget 20k: MMD = 0.251 ± 0.207 [Nr. Scores used: 5]\n"
     ]
    },
    {
     "name": "stderr",
     "output_type": "stream",
     "text": [
      "C:\\Users\\cooli\\AppData\\Local\\Temp\\ipykernel_2244\\828865007.py:41: UserWarning: To copy construct from a tensor, it is recommended to use sourceTensor.clone().detach() or sourceTensor.clone().detach().requires_grad_(True), rather than torch.tensor(sourceTensor).\n",
      "  ref_tensor = torch.tensor(reference_samples, dtype=torch.float32)\n"
     ]
    },
    {
     "name": "stdout",
     "output_type": "stream",
     "text": [
      "\n",
      "Task: two_moons\n",
      "MMD Summary (Mean ± Std):\n",
      "Budget 5k: MMD = 0.011 ± 0.008 [Nr. Scores used: 5]\n",
      "Budget 10k: MMD = 0.010 ± 0.007 [Nr. Scores used: 5]\n",
      "Budget 20k: MMD = 0.006 ± 0.005 [Nr. Scores used: 5]\n"
     ]
    },
    {
     "name": "stderr",
     "output_type": "stream",
     "text": [
      "C:\\Users\\cooli\\AppData\\Local\\Temp\\ipykernel_2244\\828865007.py:41: UserWarning: To copy construct from a tensor, it is recommended to use sourceTensor.clone().detach() or sourceTensor.clone().detach().requires_grad_(True), rather than torch.tensor(sourceTensor).\n",
      "  ref_tensor = torch.tensor(reference_samples, dtype=torch.float32)\n"
     ]
    },
    {
     "name": "stdout",
     "output_type": "stream",
     "text": [
      "\n",
      "Task: sir\n",
      "MMD Summary (Mean ± Std):\n",
      "Budget 5k: MMD = 0.300 ± 0.077 [Nr. Scores used: 5]\n",
      "Budget 10k: MMD = 0.389 ± 0.203 [Nr. Scores used: 5]\n",
      "Budget 20k: MMD = 0.540 ± 0.116 [Nr. Scores used: 5]\n"
     ]
    },
    {
     "name": "stderr",
     "output_type": "stream",
     "text": [
      "C:\\Users\\cooli\\AppData\\Local\\Temp\\ipykernel_2244\\828865007.py:41: UserWarning: To copy construct from a tensor, it is recommended to use sourceTensor.clone().detach() or sourceTensor.clone().detach().requires_grad_(True), rather than torch.tensor(sourceTensor).\n",
      "  ref_tensor = torch.tensor(reference_samples, dtype=torch.float32)\n"
     ]
    },
    {
     "name": "stdout",
     "output_type": "stream",
     "text": [
      "\n",
      "Task: lotka_volterra\n",
      "MMD Summary (Mean ± Std):\n",
      "Budget 5k: MMD = 0.545 ± 0.007 [Nr. Scores used: 5]\n",
      "Budget 10k: MMD = 0.534 ± 0.017 [Nr. Scores used: 5]\n",
      "Budget 20k: MMD = 0.518 ± 0.012 [Nr. Scores used: 5]\n"
     ]
    }
   ],
   "source": [
    "for task_name in tasks:\n",
    "    calculate_mmd(\"dep\", task_name)"
   ]
  },
  {
   "cell_type": "markdown",
   "id": "3ef8dec6",
   "metadata": {},
   "source": [
    "# Independent cVAE"
   ]
  },
  {
   "cell_type": "code",
   "execution_count": 12,
   "id": "e7c47b56",
   "metadata": {},
   "outputs": [
    {
     "name": "stderr",
     "output_type": "stream",
     "text": [
      "C:\\Users\\cooli\\AppData\\Local\\Temp\\ipykernel_2244\\828865007.py:41: UserWarning: To copy construct from a tensor, it is recommended to use sourceTensor.clone().detach() or sourceTensor.clone().detach().requires_grad_(True), rather than torch.tensor(sourceTensor).\n",
      "  ref_tensor = torch.tensor(reference_samples, dtype=torch.float32)\n"
     ]
    },
    {
     "name": "stdout",
     "output_type": "stream",
     "text": [
      "\n",
      "Task: gaussian_linear\n",
      "MMD Summary (Mean ± Std):\n",
      "Budget 5k: MMD = 0.030 ± 0.024 [Nr. Scores used: 5]\n",
      "Budget 10k: MMD = 0.017 ± 0.016 [Nr. Scores used: 5]\n",
      "Budget 20k: MMD = 0.042 ± 0.060 [Nr. Scores used: 5]\n"
     ]
    },
    {
     "name": "stderr",
     "output_type": "stream",
     "text": [
      "C:\\Users\\cooli\\AppData\\Local\\Temp\\ipykernel_2244\\828865007.py:41: UserWarning: To copy construct from a tensor, it is recommended to use sourceTensor.clone().detach() or sourceTensor.clone().detach().requires_grad_(True), rather than torch.tensor(sourceTensor).\n",
      "  ref_tensor = torch.tensor(reference_samples, dtype=torch.float32)\n"
     ]
    },
    {
     "name": "stdout",
     "output_type": "stream",
     "text": [
      "\n",
      "Task: gaussian_linear_uniform\n",
      "MMD Summary (Mean ± Std):\n",
      "Budget 5k: MMD = 0.067 ± 0.037 [Nr. Scores used: 5]\n",
      "Budget 10k: MMD = 0.085 ± 0.043 [Nr. Scores used: 5]\n",
      "Budget 20k: MMD = 0.171 ± 0.095 [Nr. Scores used: 5]\n"
     ]
    },
    {
     "name": "stderr",
     "output_type": "stream",
     "text": [
      "C:\\Users\\cooli\\AppData\\Local\\Temp\\ipykernel_2244\\828865007.py:41: UserWarning: To copy construct from a tensor, it is recommended to use sourceTensor.clone().detach() or sourceTensor.clone().detach().requires_grad_(True), rather than torch.tensor(sourceTensor).\n",
      "  ref_tensor = torch.tensor(reference_samples, dtype=torch.float32)\n"
     ]
    },
    {
     "name": "stdout",
     "output_type": "stream",
     "text": [
      "\n",
      "Task: slcp\n",
      "MMD Summary (Mean ± Std):\n",
      "Budget 5k: MMD = 0.070 ± 0.025 [Nr. Scores used: 5]\n",
      "Budget 10k: MMD = 0.055 ± 0.038 [Nr. Scores used: 5]\n",
      "Budget 20k: MMD = 0.088 ± 0.047 [Nr. Scores used: 5]\n"
     ]
    },
    {
     "name": "stderr",
     "output_type": "stream",
     "text": [
      "C:\\Users\\cooli\\AppData\\Local\\Temp\\ipykernel_2244\\828865007.py:41: UserWarning: To copy construct from a tensor, it is recommended to use sourceTensor.clone().detach() or sourceTensor.clone().detach().requires_grad_(True), rather than torch.tensor(sourceTensor).\n",
      "  ref_tensor = torch.tensor(reference_samples, dtype=torch.float32)\n"
     ]
    },
    {
     "name": "stdout",
     "output_type": "stream",
     "text": [
      "\n",
      "Task: slcp_distractors\n",
      "MMD Summary (Mean ± Std):\n",
      "Budget 5k: MMD = 0.129 ± 0.054 [Nr. Scores used: 5]\n",
      "Budget 10k: MMD = 0.144 ± 0.072 [Nr. Scores used: 5]\n",
      "Budget 20k: MMD = 0.098 ± 0.061 [Nr. Scores used: 5]\n"
     ]
    },
    {
     "name": "stderr",
     "output_type": "stream",
     "text": [
      "C:\\Users\\cooli\\AppData\\Local\\Temp\\ipykernel_2244\\828865007.py:41: UserWarning: To copy construct from a tensor, it is recommended to use sourceTensor.clone().detach() or sourceTensor.clone().detach().requires_grad_(True), rather than torch.tensor(sourceTensor).\n",
      "  ref_tensor = torch.tensor(reference_samples, dtype=torch.float32)\n"
     ]
    },
    {
     "name": "stdout",
     "output_type": "stream",
     "text": [
      "\n",
      "Task: bernoulli_glm\n",
      "MMD Summary (Mean ± Std):\n",
      "Budget 5k: MMD = 0.159 ± 0.030 [Nr. Scores used: 5]\n",
      "Budget 10k: MMD = 0.199 ± 0.021 [Nr. Scores used: 5]\n",
      "Budget 20k: MMD = 0.180 ± 0.035 [Nr. Scores used: 5]\n"
     ]
    },
    {
     "name": "stderr",
     "output_type": "stream",
     "text": [
      "C:\\Users\\cooli\\AppData\\Local\\Temp\\ipykernel_2244\\828865007.py:41: UserWarning: To copy construct from a tensor, it is recommended to use sourceTensor.clone().detach() or sourceTensor.clone().detach().requires_grad_(True), rather than torch.tensor(sourceTensor).\n",
      "  ref_tensor = torch.tensor(reference_samples, dtype=torch.float32)\n"
     ]
    },
    {
     "name": "stdout",
     "output_type": "stream",
     "text": [
      "\n",
      "Task: bernoulli_glm_raw\n",
      "MMD Summary (Mean ± Std):\n",
      "Budget 5k: MMD = 0.179 ± 0.092 [Nr. Scores used: 5]\n",
      "Budget 10k: MMD = 0.188 ± 0.060 [Nr. Scores used: 5]\n",
      "Budget 20k: MMD = 0.164 ± 0.041 [Nr. Scores used: 5]\n"
     ]
    },
    {
     "name": "stderr",
     "output_type": "stream",
     "text": [
      "C:\\Users\\cooli\\AppData\\Local\\Temp\\ipykernel_2244\\828865007.py:41: UserWarning: To copy construct from a tensor, it is recommended to use sourceTensor.clone().detach() or sourceTensor.clone().detach().requires_grad_(True), rather than torch.tensor(sourceTensor).\n",
      "  ref_tensor = torch.tensor(reference_samples, dtype=torch.float32)\n"
     ]
    },
    {
     "name": "stdout",
     "output_type": "stream",
     "text": [
      "\n",
      "Task: gaussian_mixture\n",
      "MMD Summary (Mean ± Std):\n",
      "Budget 5k: MMD = 0.211 ± 0.159 [Nr. Scores used: 5]\n",
      "Budget 10k: MMD = 0.086 ± 0.051 [Nr. Scores used: 5]\n",
      "Budget 20k: MMD = 0.198 ± 0.144 [Nr. Scores used: 5]\n"
     ]
    },
    {
     "name": "stderr",
     "output_type": "stream",
     "text": [
      "C:\\Users\\cooli\\AppData\\Local\\Temp\\ipykernel_2244\\828865007.py:41: UserWarning: To copy construct from a tensor, it is recommended to use sourceTensor.clone().detach() or sourceTensor.clone().detach().requires_grad_(True), rather than torch.tensor(sourceTensor).\n",
      "  ref_tensor = torch.tensor(reference_samples, dtype=torch.float32)\n"
     ]
    },
    {
     "name": "stdout",
     "output_type": "stream",
     "text": [
      "\n",
      "Task: two_moons\n",
      "MMD Summary (Mean ± Std):\n",
      "Budget 5k: MMD = 0.011 ± 0.006 [Nr. Scores used: 5]\n",
      "Budget 10k: MMD = 0.008 ± 0.008 [Nr. Scores used: 5]\n",
      "Budget 20k: MMD = 0.011 ± 0.007 [Nr. Scores used: 5]\n"
     ]
    },
    {
     "name": "stderr",
     "output_type": "stream",
     "text": [
      "c:\\Users\\cooli\\anaconda3\\Lib\\site-packages\\diffeqtorch\\diffeqtorch.py:29: UserWarning: JULIA_SYSIMAGE_DIFFEQTORCH not set\n",
      "  warn(\"JULIA_SYSIMAGE_DIFFEQTORCH not set\")\n",
      "C:\\Users\\cooli\\AppData\\Local\\Temp\\ipykernel_2244\\828865007.py:41: UserWarning: To copy construct from a tensor, it is recommended to use sourceTensor.clone().detach() or sourceTensor.clone().detach().requires_grad_(True), rather than torch.tensor(sourceTensor).\n",
      "  ref_tensor = torch.tensor(reference_samples, dtype=torch.float32)\n"
     ]
    },
    {
     "name": "stdout",
     "output_type": "stream",
     "text": [
      "\n",
      "Task: sir\n",
      "MMD Summary (Mean ± Std):\n",
      "Budget 5k: MMD = 0.359 ± 0.109 [Nr. Scores used: 5]\n",
      "Budget 10k: MMD = 0.458 ± 0.139 [Nr. Scores used: 5]\n",
      "Budget 20k: MMD = 0.463 ± 0.241 [Nr. Scores used: 5]\n"
     ]
    },
    {
     "name": "stderr",
     "output_type": "stream",
     "text": [
      "C:\\Users\\cooli\\AppData\\Local\\Temp\\ipykernel_2244\\828865007.py:41: UserWarning: To copy construct from a tensor, it is recommended to use sourceTensor.clone().detach() or sourceTensor.clone().detach().requires_grad_(True), rather than torch.tensor(sourceTensor).\n",
      "  ref_tensor = torch.tensor(reference_samples, dtype=torch.float32)\n"
     ]
    },
    {
     "name": "stdout",
     "output_type": "stream",
     "text": [
      "\n",
      "Task: lotka_volterra\n",
      "MMD Summary (Mean ± Std):\n",
      "Budget 5k: MMD = 0.552 ± 0.002 [Nr. Scores used: 5]\n",
      "Budget 10k: MMD = 0.555 ± 0.004 [Nr. Scores used: 5]\n",
      "Budget 20k: MMD = 0.548 ± 0.005 [Nr. Scores used: 5]\n"
     ]
    }
   ],
   "source": [
    "for task_name in tasks:\n",
    "    calculate_mmd(\"indep\", task_name)"
   ]
  },
  {
   "cell_type": "markdown",
   "id": "03c8929b",
   "metadata": {},
   "source": [
    "# Masked Autoregressive Flows (MAF)"
   ]
  },
  {
   "cell_type": "code",
   "execution_count": 14,
   "id": "efd5b9b6",
   "metadata": {},
   "outputs": [
    {
     "name": "stderr",
     "output_type": "stream",
     "text": [
      "C:\\Users\\cooli\\AppData\\Local\\Temp\\ipykernel_2244\\828865007.py:41: UserWarning: To copy construct from a tensor, it is recommended to use sourceTensor.clone().detach() or sourceTensor.clone().detach().requires_grad_(True), rather than torch.tensor(sourceTensor).\n",
      "  ref_tensor = torch.tensor(reference_samples, dtype=torch.float32)\n"
     ]
    },
    {
     "name": "stdout",
     "output_type": "stream",
     "text": [
      "\n",
      "Task: gaussian_linear\n",
      "MMD Summary (Mean ± Std):\n",
      "Budget 5k: MMD = 0.006 ± 0.002 [Nr. Scores used: 5]\n",
      "Budget 10k: MMD = 0.006 ± 0.004 [Nr. Scores used: 5]\n",
      "Budget 20k: MMD = 0.002 ± 0.001 [Nr. Scores used: 5]\n"
     ]
    },
    {
     "name": "stderr",
     "output_type": "stream",
     "text": [
      "C:\\Users\\cooli\\AppData\\Local\\Temp\\ipykernel_2244\\828865007.py:41: UserWarning: To copy construct from a tensor, it is recommended to use sourceTensor.clone().detach() or sourceTensor.clone().detach().requires_grad_(True), rather than torch.tensor(sourceTensor).\n",
      "  ref_tensor = torch.tensor(reference_samples, dtype=torch.float32)\n"
     ]
    },
    {
     "name": "stdout",
     "output_type": "stream",
     "text": [
      "\n",
      "Task: gaussian_linear_uniform\n",
      "MMD Summary (Mean ± Std):\n",
      "Budget 5k: MMD = 0.013 ± 0.005 [Nr. Scores used: 5]\n",
      "Budget 10k: MMD = 0.008 ± 0.004 [Nr. Scores used: 5]\n",
      "Budget 20k: MMD = 0.005 ± 0.002 [Nr. Scores used: 5]\n"
     ]
    },
    {
     "name": "stderr",
     "output_type": "stream",
     "text": [
      "C:\\Users\\cooli\\AppData\\Local\\Temp\\ipykernel_2244\\828865007.py:41: UserWarning: To copy construct from a tensor, it is recommended to use sourceTensor.clone().detach() or sourceTensor.clone().detach().requires_grad_(True), rather than torch.tensor(sourceTensor).\n",
      "  ref_tensor = torch.tensor(reference_samples, dtype=torch.float32)\n"
     ]
    },
    {
     "name": "stdout",
     "output_type": "stream",
     "text": [
      "\n",
      "Task: slcp\n",
      "MMD Summary (Mean ± Std):\n",
      "Budget 5k: MMD = 0.062 ± 0.017 [Nr. Scores used: 5]\n",
      "Budget 10k: MMD = 0.014 ± 0.003 [Nr. Scores used: 5]\n",
      "Budget 20k: MMD = 0.061 ± 0.074 [Nr. Scores used: 5]\n"
     ]
    },
    {
     "name": "stderr",
     "output_type": "stream",
     "text": [
      "C:\\Users\\cooli\\AppData\\Local\\Temp\\ipykernel_2244\\828865007.py:41: UserWarning: To copy construct from a tensor, it is recommended to use sourceTensor.clone().detach() or sourceTensor.clone().detach().requires_grad_(True), rather than torch.tensor(sourceTensor).\n",
      "  ref_tensor = torch.tensor(reference_samples, dtype=torch.float32)\n"
     ]
    },
    {
     "name": "stdout",
     "output_type": "stream",
     "text": [
      "\n",
      "Task: slcp_distractors\n",
      "MMD Summary (Mean ± Std):\n",
      "Budget 5k: MMD = 0.271 ± 0.238 [Nr. Scores used: 4]\n",
      "Budget 10k: MMD = 0.208 ± 0.254 [Nr. Scores used: 4]\n",
      "Budget 20k: MMD = 0.170 ± 0.253 [Nr. Scores used: 5]\n"
     ]
    },
    {
     "name": "stderr",
     "output_type": "stream",
     "text": [
      "C:\\Users\\cooli\\AppData\\Local\\Temp\\ipykernel_2244\\828865007.py:41: UserWarning: To copy construct from a tensor, it is recommended to use sourceTensor.clone().detach() or sourceTensor.clone().detach().requires_grad_(True), rather than torch.tensor(sourceTensor).\n",
      "  ref_tensor = torch.tensor(reference_samples, dtype=torch.float32)\n"
     ]
    },
    {
     "name": "stdout",
     "output_type": "stream",
     "text": [
      "\n",
      "Task: bernoulli_glm\n",
      "MMD Summary (Mean ± Std):\n",
      "Budget 5k: MMD = 0.109 ± 0.037 [Nr. Scores used: 5]\n",
      "Budget 10k: MMD = 0.075 ± 0.040 [Nr. Scores used: 5]\n",
      "Budget 20k: MMD = 0.060 ± 0.027 [Nr. Scores used: 5]\n"
     ]
    },
    {
     "name": "stderr",
     "output_type": "stream",
     "text": [
      "C:\\Users\\cooli\\AppData\\Local\\Temp\\ipykernel_2244\\828865007.py:41: UserWarning: To copy construct from a tensor, it is recommended to use sourceTensor.clone().detach() or sourceTensor.clone().detach().requires_grad_(True), rather than torch.tensor(sourceTensor).\n",
      "  ref_tensor = torch.tensor(reference_samples, dtype=torch.float32)\n"
     ]
    },
    {
     "name": "stdout",
     "output_type": "stream",
     "text": [
      "\n",
      "Task: bernoulli_glm_raw\n",
      "MMD Summary (Mean ± Std):\n",
      "Budget 5k: MMD = 0.109 ± 0.022 [Nr. Scores used: 5]\n",
      "Budget 10k: MMD = 0.080 ± 0.042 [Nr. Scores used: 5]\n",
      "Budget 20k: MMD = 0.089 ± 0.047 [Nr. Scores used: 5]\n"
     ]
    },
    {
     "name": "stderr",
     "output_type": "stream",
     "text": [
      "C:\\Users\\cooli\\AppData\\Local\\Temp\\ipykernel_2244\\828865007.py:41: UserWarning: To copy construct from a tensor, it is recommended to use sourceTensor.clone().detach() or sourceTensor.clone().detach().requires_grad_(True), rather than torch.tensor(sourceTensor).\n",
      "  ref_tensor = torch.tensor(reference_samples, dtype=torch.float32)\n"
     ]
    },
    {
     "name": "stdout",
     "output_type": "stream",
     "text": [
      "\n",
      "Task: gaussian_mixture\n",
      "MMD Summary (Mean ± Std):\n",
      "Budget 5k: MMD = 0.171 ± 0.024 [Nr. Scores used: 5]\n",
      "Budget 10k: MMD = 0.127 ± 0.022 [Nr. Scores used: 5]\n",
      "Budget 20k: MMD = 0.105 ± 0.020 [Nr. Scores used: 5]\n"
     ]
    },
    {
     "name": "stderr",
     "output_type": "stream",
     "text": [
      "C:\\Users\\cooli\\AppData\\Local\\Temp\\ipykernel_2244\\828865007.py:41: UserWarning: To copy construct from a tensor, it is recommended to use sourceTensor.clone().detach() or sourceTensor.clone().detach().requires_grad_(True), rather than torch.tensor(sourceTensor).\n",
      "  ref_tensor = torch.tensor(reference_samples, dtype=torch.float32)\n"
     ]
    },
    {
     "name": "stdout",
     "output_type": "stream",
     "text": [
      "\n",
      "Task: two_moons\n",
      "MMD Summary (Mean ± Std):\n",
      "Budget 5k: MMD = 0.002 ± 0.001 [Nr. Scores used: 5]\n",
      "Budget 10k: MMD = 0.004 ± 0.006 [Nr. Scores used: 5]\n",
      "Budget 20k: MMD = 0.000 ± 0.000 [Nr. Scores used: 5]\n"
     ]
    },
    {
     "name": "stderr",
     "output_type": "stream",
     "text": [
      "C:\\Users\\cooli\\AppData\\Local\\Temp\\ipykernel_2244\\828865007.py:41: UserWarning: To copy construct from a tensor, it is recommended to use sourceTensor.clone().detach() or sourceTensor.clone().detach().requires_grad_(True), rather than torch.tensor(sourceTensor).\n",
      "  ref_tensor = torch.tensor(reference_samples, dtype=torch.float32)\n"
     ]
    },
    {
     "name": "stdout",
     "output_type": "stream",
     "text": [
      "\n",
      "Task: sir\n",
      "MMD Summary (Mean ± Std):\n",
      "Budget 5k: MMD = 0.328 ± 0.183 [Nr. Scores used: 5]\n",
      "Budget 10k: MMD = 0.212 ± 0.081 [Nr. Scores used: 5]\n",
      "Budget 20k: MMD = 0.418 ± 0.146 [Nr. Scores used: 5]\n"
     ]
    },
    {
     "name": "stderr",
     "output_type": "stream",
     "text": [
      "C:\\Users\\cooli\\AppData\\Local\\Temp\\ipykernel_2244\\828865007.py:41: UserWarning: To copy construct from a tensor, it is recommended to use sourceTensor.clone().detach() or sourceTensor.clone().detach().requires_grad_(True), rather than torch.tensor(sourceTensor).\n",
      "  ref_tensor = torch.tensor(reference_samples, dtype=torch.float32)\n"
     ]
    },
    {
     "name": "stdout",
     "output_type": "stream",
     "text": [
      "\n",
      "Task: lotka_volterra\n",
      "MMD Summary (Mean ± Std):\n",
      "Budget 5k: MMD = 0.548 ± 0.004 [Nr. Scores used: 5]\n",
      "Budget 10k: MMD = 0.537 ± 0.010 [Nr. Scores used: 5]\n",
      "Budget 20k: MMD = 0.499 ± 0.029 [Nr. Scores used: 5]\n"
     ]
    }
   ],
   "source": [
    "for task_name in tasks:\n",
    "    calculate_mmd(\"MAF\", task_name)"
   ]
  },
  {
   "cell_type": "markdown",
   "id": "2b03697a",
   "metadata": {},
   "source": [
    "# Neural Spline Flows"
   ]
  },
  {
   "cell_type": "code",
   "execution_count": 15,
   "id": "597f10e2",
   "metadata": {},
   "outputs": [
    {
     "name": "stderr",
     "output_type": "stream",
     "text": [
      "C:\\Users\\cooli\\AppData\\Local\\Temp\\ipykernel_2244\\828865007.py:41: UserWarning: To copy construct from a tensor, it is recommended to use sourceTensor.clone().detach() or sourceTensor.clone().detach().requires_grad_(True), rather than torch.tensor(sourceTensor).\n",
      "  ref_tensor = torch.tensor(reference_samples, dtype=torch.float32)\n"
     ]
    },
    {
     "name": "stdout",
     "output_type": "stream",
     "text": [
      "\n",
      "Task: gaussian_linear\n",
      "MMD Summary (Mean ± Std):\n",
      "Budget 5k: MMD = 0.018 ± 0.008 [Nr. Scores used: 5]\n",
      "Budget 10k: MMD = 0.088 ± 0.098 [Nr. Scores used: 5]\n",
      "Budget 20k: MMD = 0.013 ± 0.008 [Nr. Scores used: 5]\n"
     ]
    },
    {
     "name": "stderr",
     "output_type": "stream",
     "text": [
      "C:\\Users\\cooli\\AppData\\Local\\Temp\\ipykernel_2244\\828865007.py:41: UserWarning: To copy construct from a tensor, it is recommended to use sourceTensor.clone().detach() or sourceTensor.clone().detach().requires_grad_(True), rather than torch.tensor(sourceTensor).\n",
      "  ref_tensor = torch.tensor(reference_samples, dtype=torch.float32)\n"
     ]
    },
    {
     "name": "stdout",
     "output_type": "stream",
     "text": [
      "\n",
      "Task: gaussian_linear_uniform\n",
      "MMD Summary (Mean ± Std):\n",
      "Budget 5k: MMD = 0.048 ± 0.057 [Nr. Scores used: 5]\n",
      "Budget 10k: MMD = 0.069 ± 0.071 [Nr. Scores used: 5]\n",
      "Budget 20k: MMD = 0.054 ± 0.077 [Nr. Scores used: 5]\n"
     ]
    },
    {
     "name": "stderr",
     "output_type": "stream",
     "text": [
      "C:\\Users\\cooli\\AppData\\Local\\Temp\\ipykernel_2244\\828865007.py:41: UserWarning: To copy construct from a tensor, it is recommended to use sourceTensor.clone().detach() or sourceTensor.clone().detach().requires_grad_(True), rather than torch.tensor(sourceTensor).\n",
      "  ref_tensor = torch.tensor(reference_samples, dtype=torch.float32)\n"
     ]
    },
    {
     "name": "stdout",
     "output_type": "stream",
     "text": [
      "\n",
      "Task: slcp\n",
      "MMD Summary (Mean ± Std):\n",
      "Budget 5k: MMD = 0.041 ± 0.014 [Nr. Scores used: 5]\n",
      "Budget 10k: MMD = 0.025 ± 0.010 [Nr. Scores used: 5]\n",
      "Budget 20k: MMD = 0.023 ± 0.008 [Nr. Scores used: 5]\n"
     ]
    },
    {
     "name": "stderr",
     "output_type": "stream",
     "text": [
      "C:\\Users\\cooli\\AppData\\Local\\Temp\\ipykernel_2244\\828865007.py:41: UserWarning: To copy construct from a tensor, it is recommended to use sourceTensor.clone().detach() or sourceTensor.clone().detach().requires_grad_(True), rather than torch.tensor(sourceTensor).\n",
      "  ref_tensor = torch.tensor(reference_samples, dtype=torch.float32)\n"
     ]
    },
    {
     "name": "stdout",
     "output_type": "stream",
     "text": [
      "\n",
      "Task: slcp_distractors\n",
      "MMD Summary (Mean ± Std):\n",
      "Budget 5k: MMD = 0.090 ± 0.040 [Nr. Scores used: 5]\n",
      "Budget 10k: MMD = 0.089 ± 0.033 [Nr. Scores used: 5]\n",
      "Budget 20k: MMD = 0.085 ± 0.038 [Nr. Scores used: 5]\n"
     ]
    },
    {
     "name": "stderr",
     "output_type": "stream",
     "text": [
      "C:\\Users\\cooli\\AppData\\Local\\Temp\\ipykernel_2244\\828865007.py:41: UserWarning: To copy construct from a tensor, it is recommended to use sourceTensor.clone().detach() or sourceTensor.clone().detach().requires_grad_(True), rather than torch.tensor(sourceTensor).\n",
      "  ref_tensor = torch.tensor(reference_samples, dtype=torch.float32)\n"
     ]
    },
    {
     "name": "stdout",
     "output_type": "stream",
     "text": [
      "\n",
      "Task: bernoulli_glm\n",
      "MMD Summary (Mean ± Std):\n",
      "Budget 5k: MMD = 0.062 ± 0.019 [Nr. Scores used: 5]\n",
      "Budget 10k: MMD = 0.054 ± 0.025 [Nr. Scores used: 5]\n",
      "Budget 20k: MMD = 0.164 ± 0.238 [Nr. Scores used: 5]\n"
     ]
    },
    {
     "name": "stderr",
     "output_type": "stream",
     "text": [
      "C:\\Users\\cooli\\AppData\\Local\\Temp\\ipykernel_2244\\828865007.py:41: UserWarning: To copy construct from a tensor, it is recommended to use sourceTensor.clone().detach() or sourceTensor.clone().detach().requires_grad_(True), rather than torch.tensor(sourceTensor).\n",
      "  ref_tensor = torch.tensor(reference_samples, dtype=torch.float32)\n"
     ]
    },
    {
     "name": "stdout",
     "output_type": "stream",
     "text": [
      "\n",
      "Task: bernoulli_glm_raw\n",
      "MMD Summary (Mean ± Std):\n",
      "Budget 5k: MMD = 0.217 ± 0.207 [Nr. Scores used: 5]\n",
      "Budget 10k: MMD = 0.162 ± 0.171 [Nr. Scores used: 5]\n",
      "Budget 20k: MMD = 0.154 ± 0.136 [Nr. Scores used: 5]\n"
     ]
    },
    {
     "name": "stderr",
     "output_type": "stream",
     "text": [
      "C:\\Users\\cooli\\AppData\\Local\\Temp\\ipykernel_2244\\828865007.py:41: UserWarning: To copy construct from a tensor, it is recommended to use sourceTensor.clone().detach() or sourceTensor.clone().detach().requires_grad_(True), rather than torch.tensor(sourceTensor).\n",
      "  ref_tensor = torch.tensor(reference_samples, dtype=torch.float32)\n"
     ]
    },
    {
     "name": "stdout",
     "output_type": "stream",
     "text": [
      "\n",
      "Task: gaussian_mixture\n",
      "MMD Summary (Mean ± Std):\n",
      "Budget 5k: MMD = 0.058 ± 0.032 [Nr. Scores used: 5]\n",
      "Budget 10k: MMD = 0.127 ± 0.214 [Nr. Scores used: 5]\n",
      "Budget 20k: MMD = 0.014 ± 0.009 [Nr. Scores used: 5]\n"
     ]
    },
    {
     "name": "stderr",
     "output_type": "stream",
     "text": [
      "C:\\Users\\cooli\\AppData\\Local\\Temp\\ipykernel_2244\\828865007.py:41: UserWarning: To copy construct from a tensor, it is recommended to use sourceTensor.clone().detach() or sourceTensor.clone().detach().requires_grad_(True), rather than torch.tensor(sourceTensor).\n",
      "  ref_tensor = torch.tensor(reference_samples, dtype=torch.float32)\n"
     ]
    },
    {
     "name": "stdout",
     "output_type": "stream",
     "text": [
      "\n",
      "Task: two_moons\n",
      "MMD Summary (Mean ± Std):\n",
      "Budget 5k: MMD = 0.002 ± 0.005 [Nr. Scores used: 5]\n",
      "Budget 10k: MMD = 0.002 ± 0.004 [Nr. Scores used: 5]\n",
      "Budget 20k: MMD = 0.003 ± 0.003 [Nr. Scores used: 5]\n"
     ]
    },
    {
     "name": "stderr",
     "output_type": "stream",
     "text": [
      "C:\\Users\\cooli\\AppData\\Local\\Temp\\ipykernel_2244\\828865007.py:41: UserWarning: To copy construct from a tensor, it is recommended to use sourceTensor.clone().detach() or sourceTensor.clone().detach().requires_grad_(True), rather than torch.tensor(sourceTensor).\n",
      "  ref_tensor = torch.tensor(reference_samples, dtype=torch.float32)\n"
     ]
    },
    {
     "name": "stdout",
     "output_type": "stream",
     "text": [
      "\n",
      "Task: sir\n",
      "MMD Summary (Mean ± Std):\n",
      "Budget 5k: MMD = 0.421 ± 0.168 [Nr. Scores used: 5]\n",
      "Budget 10k: MMD = 0.328 ± 0.127 [Nr. Scores used: 5]\n",
      "Budget 20k: MMD = 0.415 ± 0.182 [Nr. Scores used: 5]\n"
     ]
    },
    {
     "name": "stderr",
     "output_type": "stream",
     "text": [
      "C:\\Users\\cooli\\AppData\\Local\\Temp\\ipykernel_2244\\828865007.py:41: UserWarning: To copy construct from a tensor, it is recommended to use sourceTensor.clone().detach() or sourceTensor.clone().detach().requires_grad_(True), rather than torch.tensor(sourceTensor).\n",
      "  ref_tensor = torch.tensor(reference_samples, dtype=torch.float32)\n"
     ]
    },
    {
     "name": "stdout",
     "output_type": "stream",
     "text": [
      "\n",
      "Task: lotka_volterra\n",
      "MMD Summary (Mean ± Std):\n",
      "Budget 5k: MMD = 0.537 ± 0.010 [Nr. Scores used: 5]\n",
      "Budget 10k: MMD = 0.512 ± 0.007 [Nr. Scores used: 5]\n",
      "Budget 20k: MMD = 0.530 ± 0.023 [Nr. Scores used: 5]\n"
     ]
    }
   ],
   "source": [
    "for task_name in tasks:\n",
    "    calculate_mmd(\"NSF\", task_name)"
   ]
  },
  {
   "cell_type": "code",
   "execution_count": 5,
   "id": "08ee64ef",
   "metadata": {},
   "outputs": [
    {
     "name": "stdout",
     "output_type": "stream",
     "text": [
      "dep: 0.14883333333333332\n",
      "indep: 0.18416666666666667\n",
      "MAF: 0.1433\n",
      "NSF: 0.14723333333333333\n"
     ]
    }
   ],
   "source": [
    "dep = [0.016, 0.005, 0.090,0.031,0.027,0.014,0.076,0.044,0.075,0.154,0.072,0.030,0.121,0.099,0.050,0.102,0.070,0.047,0.116,0.122,0.251,0.011,0.010,0.006,0.300,0.389,0.540,0.545,0.534,0.518 ]\n",
    "\n",
    "indep = [0.030,0.017,0.042,0.067,0.085,0.171,0.070,0.055,0.088,0.129,0.144,0.098,0.159,0.199,0.180,0.179,0.188,0.164,0.211,0.086,0.198,0.011,0.008,0.011,0.359,0.458,0.463,0.552,0.555,0.548]\n",
    "\n",
    "MAF = [0.006,0.006,0.002,0.013,0.008,0.005,0.062,0.014,0.061,0.271,0.208,0.170,0.109,0.075,0.060,0.109,0.080,0.089,0.171,0.127,0.105,0.002,0.004,0.000,0.328,0.212,0.418,0.548,0.537,0.499]\n",
    "\n",
    "NSF = [0.018,0.088,0.013,0.048,0.069,0.054,0.041,0.025,0.023,0.090,0.089,0.085,0.062,0.054,0.164,0.217,0.162,0.154,0.058,0.127,0.014,0.014,0.002,0.003,0.421,0.328,0.415,0.537,0.512,0.530]\n",
    "\n",
    "print(f\"dep: {np.mean(dep)}\")\n",
    "print(f\"indep: {np.mean(indep)}\")\n",
    "print(f\"MAF: {np.mean(MAF)}\")\n",
    "print(f\"NSF: {np.mean(NSF)}\")\n"
   ]
  }
 ],
 "metadata": {
  "kernelspec": {
   "display_name": "master_thesis",
   "language": "python",
   "name": "python3"
  },
  "language_info": {
   "codemirror_mode": {
    "name": "ipython",
    "version": 3
   },
   "file_extension": ".py",
   "mimetype": "text/x-python",
   "name": "python",
   "nbconvert_exporter": "python",
   "pygments_lexer": "ipython3",
   "version": "3.11.11"
  }
 },
 "nbformat": 4,
 "nbformat_minor": 5
}
