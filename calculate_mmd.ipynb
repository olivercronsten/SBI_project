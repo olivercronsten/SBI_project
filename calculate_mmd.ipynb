{
 "cells": [
  {
   "cell_type": "markdown",
   "id": "42556dcd",
   "metadata": {},
   "source": [
    "This notebook calculates the mean & standard deviation MMD for all model in all tasks. It uses pre-generated datasets from each generative model, in which should be placed in a specific place in OS."
   ]
  },
  {
   "cell_type": "code",
   "execution_count": null,
   "id": "050bcb78",
   "metadata": {},
   "outputs": [],
   "source": [
    "import os\n",
    "import numpy as np\n",
    "from collections import defaultdict\n",
    "from sbibm import get_task\n",
    "from sbibm.metrics.mmd import mmd\n",
    "import torch\n",
    "\n",
    "nb_dir = os.getcwd()"
   ]
  },
  {
   "cell_type": "code",
   "execution_count": null,
   "id": "409641a2",
   "metadata": {},
   "outputs": [],
   "source": [
    "def calculate_mmd(model:str, task_name:str):    \n",
    "    task = get_task(task_name)\n",
    "    reference_samples = task.get_reference_posterior_samples(num_observation=1)\n",
    "\n",
    "    # Folder containing .npz files\n",
    "    if model == \"dep\":\n",
    "      datasets_path = os.path.join(nb_dir, \"cVAE\", \"Runs - Dependent_cVAE\", task_name)\n",
    "    elif model == \"indep\":\n",
    "      datasets_path = os.path.join(nb_dir, \"cVAE\", \"Runs - Independent_cVAE\", task_name)\n",
    "    elif model == \"NSF\":\n",
    "      datasets_path = os.path.join(nb_dir, \"Flow Based Methods\", \"Runs - NSF\", task_name)\n",
    "    elif model == \"MAF\":\n",
    "      datasets_path = os.path.join(nb_dir, \"Flow Based Methods\", \"Runs - MAF\", task_name)\n",
    "    else:\n",
    "      print(\"Model not found\")\n",
    "      return\n",
    "\n",
    "    # Store MMDs grouped by budget\n",
    "    mmd_by_budget = defaultdict(list)\n",
    "\n",
    "    for fname in sorted(os.listdir(datasets_path)):\n",
    "      file_path = os.path.join(datasets_path, fname)\n",
    "\n",
    "      # Extract budget from filename (e.g., 'budget_5k')\n",
    "      try:\n",
    "          budget = fname.split(\"budget_\")[1].replace(\".npz\", \"\")\n",
    "      except IndexError:\n",
    "          print(f\"Could not extract budget from {fname}, skipping...\")\n",
    "          continue\n",
    "\n",
    "      # Load generated samples\n",
    "      data = np.load(file_path)\n",
    "      if \"thetas\" in data:\n",
    "          generated = data[\"thetas\"]\n",
    "      else:\n",
    "          print(f\"'thetas' key not found in {fname}, skipping...\")\n",
    "          continue\n",
    "\n",
    "      # Compute MMD and store\n",
    "      # Convert to torch tensors\n",
    "      ref_tensor = torch.tensor(reference_samples, dtype=torch.float32)\n",
    "      gen_tensor = torch.tensor(generated, dtype=torch.float32)\n",
    "\n",
    "      # Compute MMD\n",
    "      score = mmd(ref_tensor, gen_tensor)\n",
    "      \n",
    "      if score < np.inf:\n",
    "        mmd_by_budget[budget].append(score)\n",
    "\n",
    "    # Print mean and std MMDs per budget\n",
    "    print(f\"\\nTask: {task_name}\\nMMD Summary (Mean ± Std):\")\n",
    "    for budget in sorted(mmd_by_budget.keys(), key=lambda b: int(b.replace(\"k\", \"\"))):\n",
    "        scores = np.array(mmd_by_budget[budget])\n",
    "        mean_score = scores.mean()\n",
    "        std_score = scores.std()\n",
    "        print(f\"Budget {budget}: MMD = {mean_score:.3f} ± {std_score:.3f} [Nr. Scores used: {len(scores)}]\")"
   ]
  },
  {
   "cell_type": "code",
   "execution_count": null,
   "id": "af59a973",
   "metadata": {},
   "outputs": [],
   "source": [
    "tasks = [\n",
    "\"gaussian_linear\",\n",
    "\"gaussian_linear_uniform\",\n",
    "\"slcp\",\n",
    "\"slcp_distractors\",\n",
    "\"bernoulli_glm\",\n",
    "\"bernoulli_glm_raw\",\n",
    "\"gaussian_mixture\",\n",
    "\"two_moons\",\n",
    "\"sir\",\n",
    "\"lotka_volterra\"\n",
    " ]"
   ]
  },
  {
   "cell_type": "markdown",
   "id": "3f00f0ce",
   "metadata": {},
   "source": [
    "# Dependent cVAE"
   ]
  },
  {
   "cell_type": "code",
   "execution_count": null,
   "id": "55047e91",
   "metadata": {},
   "outputs": [],
   "source": [
    "for task_name in tasks:\n",
    "    calculate_mmd(\"dep\", task_name)"
   ]
  },
  {
   "cell_type": "markdown",
   "id": "3ef8dec6",
   "metadata": {},
   "source": [
    "# Independent cVAE"
   ]
  },
  {
   "cell_type": "code",
   "execution_count": null,
   "id": "e7c47b56",
   "metadata": {},
   "outputs": [],
   "source": [
    "for task_name in tasks:\n",
    "    calculate_mmd(\"indep\", task_name)"
   ]
  },
  {
   "cell_type": "markdown",
   "id": "03c8929b",
   "metadata": {},
   "source": [
    "# Masked Autoregressive Flows (MAF)"
   ]
  },
  {
   "cell_type": "code",
   "execution_count": null,
   "id": "efd5b9b6",
   "metadata": {},
   "outputs": [],
   "source": [
    "for task_name in tasks:\n",
    "    calculate_mmd(\"MAF\", task_name)"
   ]
  },
  {
   "cell_type": "markdown",
   "id": "2b03697a",
   "metadata": {},
   "source": [
    "# Neural Spline Flows"
   ]
  },
  {
   "cell_type": "code",
   "execution_count": null,
   "id": "597f10e2",
   "metadata": {},
   "outputs": [],
   "source": [
    "for task_name in tasks:\n",
    "    calculate_mmd(\"NSF\", task_name)"
   ]
  }
 ],
 "metadata": {
  "kernelspec": {
   "display_name": "master_thesis",
   "language": "python",
   "name": "python3"
  },
  "language_info": {
   "codemirror_mode": {
    "name": "ipython",
    "version": 3
   },
   "file_extension": ".py",
   "mimetype": "text/x-python",
   "name": "python",
   "nbconvert_exporter": "python",
   "pygments_lexer": "ipython3",
   "version": "3.11.11"
  }
 },
 "nbformat": 4,
 "nbformat_minor": 5
}
